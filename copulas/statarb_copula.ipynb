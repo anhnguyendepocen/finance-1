{
 "cells": [
  {
   "cell_type": "markdown",
   "metadata": {},
   "source": [
    "# Statistical Arbitrage Using Conditional Distribitions via Copula Function"
   ]
  },
  {
   "cell_type": "markdown",
   "metadata": {},
   "source": [
    "The term \"statistical arbitrage\" is often used for trading based on \"mean reversion\" property of asset prices, which means that positive returns with high probability would be followed by negative returns."
   ]
  },
  {
   "cell_type": "code",
   "execution_count": 1,
   "metadata": {},
   "outputs": [
    {
     "name": "stdout",
     "output_type": "stream",
     "text": [
      "Populating the interactive namespace from numpy and matplotlib\n"
     ]
    }
   ],
   "source": [
    "import time as tt\n",
    "import pandas as pd\n",
    "#import gaussian_copula_stuff as gcs\n",
    "import statarb_stuff as sa\n",
    "%pylab inline"
   ]
  },
  {
   "cell_type": "markdown",
   "metadata": {},
   "source": [
    "In this notebook we consider an example of using statistical arbitrage in a simple trading strategy. The strategy applies to 33 stocks traded in American and German markets. It is nased on copula factor models with market indices as factors. To use the strategy we first build models for the first half of 2017."
   ]
  },
  {
   "cell_type": "code",
   "execution_count": 2,
   "metadata": {},
   "outputs": [
    {
     "name": "stdout",
     "output_type": "stream",
     "text": [
      "model for 2017-01-03 built, elapsed time = 3.568 seconds\n",
      "model for 2017-01-04 built, elapsed time = 7.108 seconds\n",
      "model for 2017-01-05 built, elapsed time = 10.642 seconds\n",
      "model for 2017-01-06 built, elapsed time = 14.367 seconds\n",
      "model for 2017-01-09 built, elapsed time = 19.487 seconds\n",
      "model for 2017-01-10 built, elapsed time = 23.787 seconds\n",
      "model for 2017-01-11 built, elapsed time = 27.755 seconds\n",
      "model for 2017-01-12 built, elapsed time = 31.262 seconds\n",
      "model for 2017-01-13 built, elapsed time = 34.789 seconds\n",
      "model for 2017-01-17 built, elapsed time = 38.331 seconds\n",
      "model for 2017-01-18 built, elapsed time = 41.880 seconds\n",
      "model for 2017-01-19 built, elapsed time = 45.361 seconds\n",
      "model for 2017-01-20 built, elapsed time = 48.869 seconds\n",
      "model for 2017-01-23 built, elapsed time = 52.432 seconds\n",
      "model for 2017-01-24 built, elapsed time = 55.919 seconds\n",
      "model for 2017-01-25 built, elapsed time = 59.437 seconds\n",
      "model for 2017-01-26 built, elapsed time = 62.941 seconds\n",
      "model for 2017-01-27 built, elapsed time = 66.470 seconds\n",
      "model for 2017-01-30 built, elapsed time = 69.960 seconds\n",
      "model for 2017-01-31 built, elapsed time = 73.891 seconds\n",
      "model for 2017-02-01 built, elapsed time = 77.456 seconds\n",
      "model for 2017-02-02 built, elapsed time = 80.949 seconds\n",
      "model for 2017-02-03 built, elapsed time = 84.464 seconds\n",
      "model for 2017-02-06 built, elapsed time = 88.083 seconds\n",
      "model for 2017-02-07 built, elapsed time = 91.595 seconds\n",
      "model for 2017-02-08 built, elapsed time = 95.213 seconds\n",
      "model for 2017-02-09 built, elapsed time = 98.811 seconds\n",
      "model for 2017-02-10 built, elapsed time = 102.354 seconds\n",
      "model for 2017-02-13 built, elapsed time = 105.969 seconds\n",
      "model for 2017-02-14 built, elapsed time = 109.472 seconds\n",
      "model for 2017-02-15 built, elapsed time = 112.961 seconds\n",
      "model for 2017-02-16 built, elapsed time = 116.507 seconds\n",
      "model for 2017-02-17 built, elapsed time = 120.043 seconds\n",
      "model for 2017-02-21 built, elapsed time = 123.559 seconds\n",
      "model for 2017-02-22 built, elapsed time = 127.096 seconds\n",
      "model for 2017-02-23 built, elapsed time = 130.575 seconds\n",
      "model for 2017-02-24 built, elapsed time = 134.071 seconds\n",
      "model for 2017-02-27 built, elapsed time = 138.541 seconds\n",
      "model for 2017-02-28 built, elapsed time = 142.495 seconds\n",
      "model for 2017-03-01 built, elapsed time = 147.227 seconds\n",
      "model for 2017-03-02 built, elapsed time = 150.754 seconds\n",
      "model for 2017-03-03 built, elapsed time = 154.674 seconds\n",
      "model for 2017-03-06 built, elapsed time = 158.223 seconds\n",
      "model for 2017-03-07 built, elapsed time = 162.077 seconds\n",
      "model for 2017-03-08 built, elapsed time = 165.626 seconds\n",
      "model for 2017-03-09 built, elapsed time = 169.493 seconds\n",
      "model for 2017-03-10 built, elapsed time = 173.028 seconds\n",
      "model for 2017-03-13 built, elapsed time = 176.545 seconds\n",
      "model for 2017-03-14 built, elapsed time = 180.071 seconds\n",
      "model for 2017-03-15 built, elapsed time = 183.784 seconds\n",
      "model for 2017-03-16 built, elapsed time = 187.333 seconds\n",
      "model for 2017-03-17 built, elapsed time = 190.861 seconds\n",
      "model for 2017-03-20 built, elapsed time = 194.371 seconds\n",
      "model for 2017-03-21 built, elapsed time = 197.953 seconds\n",
      "model for 2017-03-22 built, elapsed time = 201.490 seconds\n",
      "model for 2017-03-23 built, elapsed time = 205.037 seconds\n",
      "model for 2017-03-24 built, elapsed time = 208.559 seconds\n",
      "model for 2017-03-27 built, elapsed time = 212.196 seconds\n",
      "model for 2017-03-28 built, elapsed time = 215.717 seconds\n",
      "model for 2017-03-29 built, elapsed time = 219.283 seconds\n",
      "model for 2017-03-30 built, elapsed time = 223.039 seconds\n",
      "model for 2017-03-31 built, elapsed time = 227.734 seconds\n",
      "model for 2017-04-03 built, elapsed time = 231.298 seconds\n",
      "model for 2017-04-04 built, elapsed time = 234.978 seconds\n",
      "model for 2017-04-05 built, elapsed time = 238.541 seconds\n",
      "model for 2017-04-06 built, elapsed time = 242.120 seconds\n",
      "model for 2017-04-07 built, elapsed time = 245.663 seconds\n",
      "model for 2017-04-10 built, elapsed time = 249.235 seconds\n",
      "model for 2017-04-11 built, elapsed time = 252.811 seconds\n",
      "model for 2017-04-12 built, elapsed time = 256.410 seconds\n",
      "model for 2017-04-13 built, elapsed time = 261.460 seconds\n",
      "model for 2017-04-18 built, elapsed time = 265.683 seconds\n",
      "model for 2017-04-19 built, elapsed time = 269.895 seconds\n",
      "model for 2017-04-20 built, elapsed time = 273.424 seconds\n",
      "model for 2017-04-21 built, elapsed time = 276.938 seconds\n",
      "model for 2017-04-24 built, elapsed time = 280.480 seconds\n",
      "model for 2017-04-25 built, elapsed time = 284.041 seconds\n",
      "model for 2017-04-26 built, elapsed time = 287.594 seconds\n",
      "model for 2017-04-27 built, elapsed time = 291.138 seconds\n",
      "model for 2017-04-28 built, elapsed time = 294.638 seconds\n",
      "model for 2017-05-02 built, elapsed time = 298.206 seconds\n",
      "model for 2017-05-03 built, elapsed time = 301.748 seconds\n",
      "model for 2017-05-04 built, elapsed time = 305.341 seconds\n",
      "model for 2017-05-05 built, elapsed time = 308.885 seconds\n",
      "model for 2017-05-08 built, elapsed time = 312.415 seconds\n",
      "model for 2017-05-09 built, elapsed time = 315.931 seconds\n",
      "model for 2017-05-10 built, elapsed time = 319.609 seconds\n",
      "model for 2017-05-11 built, elapsed time = 323.136 seconds\n",
      "model for 2017-05-12 built, elapsed time = 326.704 seconds\n",
      "model for 2017-05-15 built, elapsed time = 330.235 seconds\n",
      "model for 2017-05-16 built, elapsed time = 333.824 seconds\n",
      "model for 2017-05-17 built, elapsed time = 337.386 seconds\n",
      "model for 2017-05-18 built, elapsed time = 340.976 seconds\n",
      "model for 2017-05-19 built, elapsed time = 344.551 seconds\n",
      "model for 2017-05-22 built, elapsed time = 348.079 seconds\n",
      "model for 2017-05-23 built, elapsed time = 351.660 seconds\n",
      "model for 2017-05-24 built, elapsed time = 355.168 seconds\n",
      "model for 2017-05-26 built, elapsed time = 358.733 seconds\n",
      "model for 2017-05-30 built, elapsed time = 362.275 seconds\n",
      "model for 2017-05-31 built, elapsed time = 365.827 seconds\n",
      "model for 2017-06-01 built, elapsed time = 369.371 seconds\n",
      "model for 2017-06-02 built, elapsed time = 373.096 seconds\n",
      "model for 2017-06-06 built, elapsed time = 376.718 seconds\n",
      "model for 2017-06-07 built, elapsed time = 381.622 seconds\n",
      "model for 2017-06-08 built, elapsed time = 385.340 seconds\n",
      "model for 2017-06-09 built, elapsed time = 389.942 seconds\n",
      "model for 2017-06-12 built, elapsed time = 393.578 seconds\n",
      "model for 2017-06-13 built, elapsed time = 397.152 seconds\n",
      "model for 2017-06-14 built, elapsed time = 400.811 seconds\n",
      "model for 2017-06-15 built, elapsed time = 404.453 seconds\n",
      "model for 2017-06-16 built, elapsed time = 408.100 seconds\n",
      "model for 2017-06-19 built, elapsed time = 411.651 seconds\n",
      "model for 2017-06-20 built, elapsed time = 415.304 seconds\n",
      "model for 2017-06-21 built, elapsed time = 418.820 seconds\n",
      "model for 2017-06-22 built, elapsed time = 422.383 seconds\n",
      "model for 2017-06-23 built, elapsed time = 426.065 seconds\n",
      "model for 2017-06-26 built, elapsed time = 429.577 seconds\n",
      "model for 2017-06-27 built, elapsed time = 433.102 seconds\n",
      "model for 2017-06-28 built, elapsed time = 436.736 seconds\n",
      "model for 2017-06-29 built, elapsed time = 440.291 seconds\n",
      "model for 2017-06-30 built, elapsed time = 443.802 seconds\n",
      "models for dates from 2017-01-01 to 2017-06-30 have been built\n",
      "total process, elapsed time = 443.802 seconds\n"
     ]
    }
   ],
   "source": [
    "# create models for the first half of 2017\n",
    "models, dfi, dfs = sa.all_models()"
   ]
  },
  {
   "cell_type": "markdown",
   "metadata": {},
   "source": [
    "After that we calculate marginal and conditional (given factor values) distributions for all assets and all models."
   ]
  },
  {
   "cell_type": "code",
   "execution_count": 3,
   "metadata": {},
   "outputs": [
    {
     "name": "stdout",
     "output_type": "stream",
     "text": [
      "creating all distributions, elapsed time = 126.255 seconds\n"
     ]
    }
   ],
   "source": [
    "# create marginal and conditional distributions for all stocks in 'dfs'\n",
    "df = sa.create_distributions(models, dfi, dfs)"
   ]
  },
  {
   "cell_type": "markdown",
   "metadata": {},
   "source": [
    "Next we present difference between conditional and marginal distributions to emphasize significance of stocks returns dependence on factors."
   ]
  },
  {
   "cell_type": "code",
   "execution_count": 4,
   "metadata": {},
   "outputs": [],
   "source": [
    "def calc_diff(df, stocks):\n",
    "    \"\"\" difference between conditional and marginal distributions \"\"\"\n",
    "    semi = pd.Series()\n",
    "    sema = pd.Series()\n",
    "    for stock in stocks:\n",
    "        dif = df[stock + '_cond'] - df[stock + '_marg']\n",
    "        semi[stock] = dif.min()\n",
    "        sema[stock] = dif.max()\n",
    "    return semi, sema"
   ]
  },
  {
   "cell_type": "code",
   "execution_count": 5,
   "metadata": {},
   "outputs": [
    {
     "data": {
      "image/png": "[encoded data removed]",
      "text/plain": [
       "<Figure size 576x360 with 1 Axes>"
      ]
     },
     "metadata": {},
     "output_type": "display_data"
    }
   ],
   "source": [
    "semi, sema = calc_diff(df, dfs.columns)\n",
    "ind = ['s_{0:02d}'.format(k + 1) for k in range(semi.size)]\n",
    "semi.index=ind\n",
    "sema.index=ind\n",
    "figsize(8, 5);\n",
    "semi.plot.bar();\n",
    "savefig('fig_01a.png');"
   ]
  },
  {
   "cell_type": "code",
   "execution_count": 6,
   "metadata": {},
   "outputs": [
    {
     "data": {
      "image/png": "[encoded data removed]",
      "text/plain": [
       "<Figure size 576x360 with 1 Axes>"
      ]
     },
     "metadata": {},
     "output_type": "display_data"
    }
   ],
   "source": [
    "figsize(8, 5);\n",
    "sema.plot.bar();\n",
    "savefig('fig_01b.png');"
   ]
  },
  {
   "cell_type": "markdown",
   "metadata": {},
   "source": [
    "We see that deviation between CDFs ranges from -0.5 to 0.6, which is pretty much."
   ]
  },
  {
   "cell_type": "markdown",
   "metadata": {},
   "source": [
    "Now let's run the following strategy involving single stock: fix falues $L<0.5<U$ (buy value and sell value); if current conditional CDF value is less than L, then close all open positions and open a long position in the stock; if the current conditional CDF value is greater than $U$, then close all open positions and open a short position in the the stock; otherwise keep status quo."
   ]
  },
  {
   "cell_type": "code",
   "execution_count": 10,
   "metadata": {},
   "outputs": [
    {
     "name": "stdout",
     "output_type": "stream",
     "text": [
      "Average return 1.48%\n"
     ]
    }
   ],
   "source": [
    "se = sa.create_strategies(dfs.columns, df, buy_value=0.2, sell_value=0.8)\n",
    "se = 100 * (se - 1)\n",
    "se.index = ind\n",
    "print('Average return {0:.2f}%'.format(se.mean()))"
   ]
  },
  {
   "cell_type": "code",
   "execution_count": 8,
   "metadata": {},
   "outputs": [
    {
     "data": {
      "image/png": "[encoded data removed]",
      "text/plain": [
       "<Figure size 576x360 with 1 Axes>"
      ]
     },
     "metadata": {},
     "output_type": "display_data"
    }
   ],
   "source": [
    "se.plot.bar();\n",
    "savefig('fig_02.png');"
   ]
  },
  {
   "cell_type": "markdown",
   "metadata": {},
   "source": [
    "Returns for this strategy during the half of 2017 are presented in the above figure. We see that beign applied to different assets it may bring as much as 30% return, and also as much as 25% loss. Thus statistical arbitrage requires deep studying of assets prior to implementing the strategy. Also note that in practice the approach is applied to portfolios containing huge number of assets, and most likely within high frequency trading framework."
   ]
  }
 ],
 "metadata": {
  "kernelspec": {
   "display_name": "Python 3",
   "language": "python",
   "name": "python3"
  },
  "language_info": {
   "codemirror_mode": {
    "name": "ipython",
    "version": 3
   },
   "file_extension": ".py",
   "mimetype": "text/x-python",
   "name": "python",
   "nbconvert_exporter": "python",
   "pygments_lexer": "ipython3",
   "version": "3.6.5"
  }
 },
 "nbformat": 4,
 "nbformat_minor": 2
}
